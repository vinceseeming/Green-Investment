{
 "cells": [
  {
   "cell_type": "code",
   "execution_count": 1,
   "metadata": {},
   "outputs": [],
   "source": [
    "import requests\n",
    "\n",
    "def create_company_url(cik):\n",
    "    'Returns url of the page of company filings given a CIK.'\n",
    "    return f'https://www.sec.gov/cgi-bin/browse-edgar?action=getcompany&CIK={cik}&type=13f&dateb=20210331&owner=exclude&count=40&search_text='\n",
    "\n",
    "headers = {\"User-Agent\":\"yiming.shi@student.kuleuven.be\",\n",
    "           \"Accept-Encoding\":\"gzip, deflate\",\n",
    "           \"Host\":\"www.sec.gov\"}\n",
    "\n",
    "def get_request(url):\n",
    "    'Returns result of a http request to url.'\n",
    "    return requests.get(url, headers=headers)\n",
    "\n",
    "main_url = 'https://www.sec.gov'"
   ]
  }
 ],
 "metadata": {
  "kernelspec": {
   "display_name": "Python 3",
   "language": "python",
   "name": "python3"
  },
  "language_info": {
   "codemirror_mode": {
    "name": "ipython",
    "version": 3
   },
   "file_extension": ".py",
   "mimetype": "text/x-python",
   "name": "python",
   "nbconvert_exporter": "python",
   "pygments_lexer": "ipython3",
   "version": "3.8.5"
  }
 },
 "nbformat": 4,
 "nbformat_minor": 4
}
