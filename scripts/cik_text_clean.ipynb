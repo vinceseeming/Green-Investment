{
 "cells": [
  {
   "cell_type": "code",
   "execution_count": 1,
   "metadata": {},
   "outputs": [],
   "source": [
    "import pandas as pd"
   ]
  },
  {
   "cell_type": "code",
   "execution_count": 28,
   "metadata": {},
   "outputs": [
    {
     "data": {
      "text/plain": [
       "0                                     !J INC:0001438823:\n",
       "1              #1 A LIFESAFER HOLDINGS, INC.:0001509607:\n",
       "2         #1 ARIZONA DISCOUNT PROPERTIES LLC:0001457512:\n",
       "3                          #1 PAINTBALL CORP:0001433777:\n",
       "4                                      $ LLC:0001427189:\n",
       "                               ...                      \n",
       "840539              ZZIF 2008 INVESTMENT LLC:0001448632:\n",
       "840540      ZZLL INFORMATION TECHNOLOGY, INC:0001365357:\n",
       "840541                              ZZX, LLC:0001691924:\n",
       "840542                 ZZYZX ZZAZX ZZOZX INC:0001184274:\n",
       "840543              ZZZ MEDIA HOLDINGS, INC.:0001755250:\n",
       "Name: company, Length: 840544, dtype: string"
      ]
     },
     "execution_count": 28,
     "metadata": {},
     "output_type": "execute_result"
    }
   ],
   "source": [
    "cik_look_up = pd.read_csv('/Users/shiyiming/Downloads/cik-lookup-data.txt',sep=\"\\n\",header=None)\n",
    "\n",
    "cik_look_up.columns=['company']\n",
    "cik_look_up['company'].astype('string')"
   ]
  },
  {
   "cell_type": "code",
   "execution_count": 29,
   "metadata": {},
   "outputs": [],
   "source": [
    "cik_look_up['CIK']=cik_look_up['company'].str.extract('.*(\\d{10})', expand = False)"
   ]
  },
  {
   "cell_type": "code",
   "execution_count": null,
   "metadata": {},
   "outputs": [],
   "source": []
  },
  {
   "cell_type": "code",
   "execution_count": 30,
   "metadata": {},
   "outputs": [],
   "source": [
    "#cik_look_up = newdf[[0,1]]\n",
    "\n",
    "#cik_look_up = cik_look_up.rename(columns={0: 'Company name', 1:'CIK'})\n",
    "#cik_look_up.head(5)\n",
    "\n",
    "cik_look_up = cik_look_up.drop_duplicates(subset=['CIK'],ignore_index=True)"
   ]
  },
  {
   "cell_type": "code",
   "execution_count": 31,
   "metadata": {},
   "outputs": [
    {
     "data": {
      "text/html": [
       "<div>\n",
       "<style scoped>\n",
       "    .dataframe tbody tr th:only-of-type {\n",
       "        vertical-align: middle;\n",
       "    }\n",
       "\n",
       "    .dataframe tbody tr th {\n",
       "        vertical-align: top;\n",
       "    }\n",
       "\n",
       "    .dataframe thead th {\n",
       "        text-align: right;\n",
       "    }\n",
       "</style>\n",
       "<table border=\"1\" class=\"dataframe\">\n",
       "  <thead>\n",
       "    <tr style=\"text-align: right;\">\n",
       "      <th></th>\n",
       "      <th>company</th>\n",
       "      <th>CIK</th>\n",
       "    </tr>\n",
       "  </thead>\n",
       "  <tbody>\n",
       "    <tr>\n",
       "      <th>0</th>\n",
       "      <td>!J INC:0001438823:</td>\n",
       "      <td>0001438823</td>\n",
       "    </tr>\n",
       "    <tr>\n",
       "      <th>1</th>\n",
       "      <td>#1 A LIFESAFER HOLDINGS, INC.:0001509607:</td>\n",
       "      <td>0001509607</td>\n",
       "    </tr>\n",
       "    <tr>\n",
       "      <th>2</th>\n",
       "      <td>#1 ARIZONA DISCOUNT PROPERTIES LLC:0001457512:</td>\n",
       "      <td>0001457512</td>\n",
       "    </tr>\n",
       "    <tr>\n",
       "      <th>3</th>\n",
       "      <td>#1 PAINTBALL CORP:0001433777:</td>\n",
       "      <td>0001433777</td>\n",
       "    </tr>\n",
       "    <tr>\n",
       "      <th>4</th>\n",
       "      <td>$ LLC:0001427189:</td>\n",
       "      <td>0001427189</td>\n",
       "    </tr>\n",
       "    <tr>\n",
       "      <th>...</th>\n",
       "      <td>...</td>\n",
       "      <td>...</td>\n",
       "    </tr>\n",
       "    <tr>\n",
       "      <th>777959</th>\n",
       "      <td>ZZ DRIGGS INC.:0001887875:</td>\n",
       "      <td>0001887875</td>\n",
       "    </tr>\n",
       "    <tr>\n",
       "      <th>777960</th>\n",
       "      <td>ZZ GLOBAL LLC:0001501460:</td>\n",
       "      <td>0001501460</td>\n",
       "    </tr>\n",
       "    <tr>\n",
       "      <th>777961</th>\n",
       "      <td>ZZIF 2008 INVESTMENT LLC:0001448632:</td>\n",
       "      <td>0001448632</td>\n",
       "    </tr>\n",
       "    <tr>\n",
       "      <th>777962</th>\n",
       "      <td>ZZX, LLC:0001691924:</td>\n",
       "      <td>0001691924</td>\n",
       "    </tr>\n",
       "    <tr>\n",
       "      <th>777963</th>\n",
       "      <td>ZZYZX ZZAZX ZZOZX INC:0001184274:</td>\n",
       "      <td>0001184274</td>\n",
       "    </tr>\n",
       "  </tbody>\n",
       "</table>\n",
       "<p>777964 rows × 2 columns</p>\n",
       "</div>"
      ],
      "text/plain": [
       "                                               company         CIK\n",
       "0                                   !J INC:0001438823:  0001438823\n",
       "1            #1 A LIFESAFER HOLDINGS, INC.:0001509607:  0001509607\n",
       "2       #1 ARIZONA DISCOUNT PROPERTIES LLC:0001457512:  0001457512\n",
       "3                        #1 PAINTBALL CORP:0001433777:  0001433777\n",
       "4                                    $ LLC:0001427189:  0001427189\n",
       "...                                                ...         ...\n",
       "777959                      ZZ DRIGGS INC.:0001887875:  0001887875\n",
       "777960                       ZZ GLOBAL LLC:0001501460:  0001501460\n",
       "777961            ZZIF 2008 INVESTMENT LLC:0001448632:  0001448632\n",
       "777962                            ZZX, LLC:0001691924:  0001691924\n",
       "777963               ZZYZX ZZAZX ZZOZX INC:0001184274:  0001184274\n",
       "\n",
       "[777964 rows x 2 columns]"
      ]
     },
     "execution_count": 31,
     "metadata": {},
     "output_type": "execute_result"
    }
   ],
   "source": [
    "cik_look_up"
   ]
  },
  {
   "cell_type": "code",
   "execution_count": 4,
   "metadata": {},
   "outputs": [
    {
     "data": {
      "text/html": [
       "<div>\n",
       "<style scoped>\n",
       "    .dataframe tbody tr th:only-of-type {\n",
       "        vertical-align: middle;\n",
       "    }\n",
       "\n",
       "    .dataframe tbody tr th {\n",
       "        vertical-align: top;\n",
       "    }\n",
       "\n",
       "    .dataframe thead th {\n",
       "        text-align: right;\n",
       "    }\n",
       "</style>\n",
       "<table border=\"1\" class=\"dataframe\">\n",
       "  <thead>\n",
       "    <tr style=\"text-align: right;\">\n",
       "      <th></th>\n",
       "      <th>Company name</th>\n",
       "      <th>CIK</th>\n",
       "    </tr>\n",
       "  </thead>\n",
       "  <tbody>\n",
       "    <tr>\n",
       "      <th>636452</th>\n",
       "      <td>SHAW JARED</td>\n",
       "      <td>0001017810</td>\n",
       "    </tr>\n",
       "    <tr>\n",
       "      <th>200051</th>\n",
       "      <td>DICKINSON IAN</td>\n",
       "      <td>0001708728</td>\n",
       "    </tr>\n",
       "    <tr>\n",
       "      <th>600710</th>\n",
       "      <td>ROBERT INGLE, SR. ADMINISTRATIVE TRUST UTA ROB...</td>\n",
       "      <td>0001517932</td>\n",
       "    </tr>\n",
       "    <tr>\n",
       "      <th>611699</th>\n",
       "      <td>RYBACHA ANDREW</td>\n",
       "      <td>0001511196</td>\n",
       "    </tr>\n",
       "    <tr>\n",
       "      <th>721239</th>\n",
       "      <td>URBANA VARRO OPPORTUNITY FUND I, LLC</td>\n",
       "      <td>0001512029</td>\n",
       "    </tr>\n",
       "    <tr>\n",
       "      <th>...</th>\n",
       "      <td>...</td>\n",
       "      <td>...</td>\n",
       "    </tr>\n",
       "    <tr>\n",
       "      <th>515419</th>\n",
       "      <td>NUVEEN TAX EXEMPT UNIT TRUST SERIES 196 NATION...</td>\n",
       "      <td>0000356903</td>\n",
       "    </tr>\n",
       "    <tr>\n",
       "      <th>546940</th>\n",
       "      <td>PEISER EUGENE S</td>\n",
       "      <td>0001053763</td>\n",
       "    </tr>\n",
       "    <tr>\n",
       "      <th>37594</th>\n",
       "      <td>AMERICANAN LAKEWOOD V, LLC</td>\n",
       "      <td>0001728133</td>\n",
       "    </tr>\n",
       "    <tr>\n",
       "      <th>160648</th>\n",
       "      <td>COMMERCIAL POSTGRES INC</td>\n",
       "      <td>0001311470</td>\n",
       "    </tr>\n",
       "    <tr>\n",
       "      <th>69786</th>\n",
       "      <td>BARKER SCOT B</td>\n",
       "      <td>0001548302</td>\n",
       "    </tr>\n",
       "  </tbody>\n",
       "</table>\n",
       "<p>100 rows × 2 columns</p>\n",
       "</div>"
      ],
      "text/plain": [
       "                                             Company name         CIK\n",
       "636452                                         SHAW JARED  0001017810\n",
       "200051                                      DICKINSON IAN  0001708728\n",
       "600710  ROBERT INGLE, SR. ADMINISTRATIVE TRUST UTA ROB...  0001517932\n",
       "611699                                     RYBACHA ANDREW  0001511196\n",
       "721239               URBANA VARRO OPPORTUNITY FUND I, LLC  0001512029\n",
       "...                                                   ...         ...\n",
       "515419  NUVEEN TAX EXEMPT UNIT TRUST SERIES 196 NATION...  0000356903\n",
       "546940                                    PEISER EUGENE S  0001053763\n",
       "37594                          AMERICANAN LAKEWOOD V, LLC  0001728133\n",
       "160648                            COMMERCIAL POSTGRES INC  0001311470\n",
       "69786                                       BARKER SCOT B  0001548302\n",
       "\n",
       "[100 rows x 2 columns]"
      ]
     },
     "execution_count": 4,
     "metadata": {},
     "output_type": "execute_result"
    }
   ],
   "source": [
    "test = cik_look_up.sample(100)\n",
    "test"
   ]
  },
  {
   "cell_type": "code",
   "execution_count": 5,
   "metadata": {},
   "outputs": [
    {
     "data": {
      "text/plain": [
       "0      0001017810\n",
       "1      0001708728\n",
       "2      0001517932\n",
       "3      0001511196\n",
       "4      0001512029\n",
       "          ...    \n",
       "96     0001053763\n",
       "97     0001728133\n",
       "98     0001311470\n",
       "99     0001548302\n",
       "100    0001600319\n",
       "Length: 101, dtype: object"
      ]
     },
     "execution_count": 5,
     "metadata": {},
     "output_type": "execute_result"
    }
   ],
   "source": [
    "a=test['CIK']\n",
    "type(a)\n",
    "b=pd.Series(['0001600319'])\n",
    "b\n",
    "newtest = a.append(b,ignore_index=True)\n",
    "newtest"
   ]
  },
  {
   "cell_type": "code",
   "execution_count": null,
   "metadata": {},
   "outputs": [],
   "source": [
    "for cik in newtest:\n",
    "    i=scraper(cik)\n",
    "    print (i)"
   ]
  }
 ],
 "metadata": {
  "kernelspec": {
   "display_name": "Python 3",
   "language": "python",
   "name": "python3"
  },
  "language_info": {
   "codemirror_mode": {
    "name": "ipython",
    "version": 3
   },
   "file_extension": ".py",
   "mimetype": "text/x-python",
   "name": "python",
   "nbconvert_exporter": "python",
   "pygments_lexer": "ipython3",
   "version": "3.8.5"
  }
 },
 "nbformat": 4,
 "nbformat_minor": 4
}
